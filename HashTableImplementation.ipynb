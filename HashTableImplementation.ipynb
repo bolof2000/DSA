{
 "cells": [
  {
   "cell_type": "code",
   "execution_count": 4,
   "metadata": {},
   "outputs": [],
   "source": [
    "class HashTable(object):\n",
    "    \n",
    "    def __init__(self,size):\n",
    "        \n",
    "        self.size = size\n",
    "        \n",
    "        self.slots = [None]*self.size\n",
    "        self.data = [None]*self.size\n",
    "        \n",
    "    def put(self,key,data):\n",
    "        \n",
    "        hashvalue = "
   ]
  },
  {
   "cell_type": "code",
   "execution_count": null,
   "metadata": {
    "collapsed": true
   },
   "outputs": [],
   "source": []
  }
 ],
 "metadata": {
  "kernelspec": {
   "display_name": "Python 3",
   "language": "python",
   "name": "python3"
  },
  "language_info": {
   "codemirror_mode": {
    "name": "ipython",
    "version": 3
   },
   "file_extension": ".py",
   "mimetype": "text/x-python",
   "name": "python",
   "nbconvert_exporter": "python",
   "pygments_lexer": "ipython3",
   "version": "3.6.1"
  }
 },
 "nbformat": 4,
 "nbformat_minor": 2
}
