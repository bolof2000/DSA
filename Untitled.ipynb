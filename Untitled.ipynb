{
 "cells": [
  {
   "cell_type": "code",
   "execution_count": 4,
   "metadata": {
    "collapsed": true
   },
   "outputs": [],
   "source": [
    "def compress(s):\n",
    "    \n",
    "    l = len(s)\n",
    "    \n",
    "    r = \"\"\n",
    "    \n",
    "    if l == 0:\n",
    "        \n",
    "        return \"\"\n",
    "    \n",
    "    if l == 1:\n",
    "        \n",
    "        return s+\"1\"\n",
    "    \n",
    "    count = 1\n",
    "    \n",
    "    index = 1\n",
    "    \n",
    "    while index < l:\n",
    "        if s[i] == s[i-1]:\n",
    "            \n",
    "    \n",
    "    \n",
    "    "
   ]
  }
 ],
 "metadata": {
  "kernelspec": {
   "display_name": "Python 3",
   "language": "python",
   "name": "python3"
  },
  "language_info": {
   "codemirror_mode": {
    "name": "ipython",
    "version": 3
   },
   "file_extension": ".py",
   "mimetype": "text/x-python",
   "name": "python",
   "nbconvert_exporter": "python",
   "pygments_lexer": "ipython3",
   "version": "3.6.1"
  }
 },
 "nbformat": 4,
 "nbformat_minor": 2
}
